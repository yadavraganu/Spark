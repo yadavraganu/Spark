{
 "cells": [
  {
   "cell_type": "code",
   "execution_count": 71,
   "metadata": {},
   "outputs": [],
   "source": [
    "#Required Imports\n",
    "from pyspark.sql import SparkSession\n",
    "import os\n",
    "from pyspark.sql.functions import *\n",
    "from pyspark.sql.types import IntegerType\n"
   ]
  },
  {
   "cell_type": "code",
   "execution_count": 72,
   "metadata": {},
   "outputs": [],
   "source": [
    "# create Spark Session\n",
    "spark = SparkSession.builder.appName('Column_Manupilation').getOrCreate()"
   ]
  },
  {
   "cell_type": "code",
   "execution_count": 73,
   "metadata": {},
   "outputs": [],
   "source": [
    "# Function to laod data & return data  frame\n",
    "def load_data(file):\n",
    "    current_dir=os.getcwd()\n",
    "    full_path=os.path.join(current_dir,'data',file)\n",
    "    data=spark.read.format('csv').load(full_path,inferSchema=True,header=True)\n",
    "    return data\n",
    "data=load_data('netflix_titles.csv')\n"
   ]
  },
  {
   "cell_type": "code",
   "execution_count": 74,
   "metadata": {},
   "outputs": [
    {
     "name": "stdout",
     "output_type": "stream",
     "text": [
      "root\n",
      " |-- show_id: string (nullable = true)\n",
      " |-- type: string (nullable = true)\n",
      " |-- TITLE: string (nullable = true)\n",
      " |-- director: string (nullable = true)\n",
      " |-- cast: string (nullable = true)\n",
      " |-- country: string (nullable = true)\n",
      " |-- date_added: string (nullable = true)\n",
      " |-- release_year: string (nullable = true)\n",
      " |-- rating: string (nullable = true)\n",
      " |-- duration: string (nullable = true)\n",
      " |-- listed_in: string (nullable = true)\n",
      " |-- description: string (nullable = true)\n",
      " |-- Upper Type: string (nullable = true)\n",
      "\n"
     ]
    }
   ],
   "source": [
    "# Renaming title to TITLE ,adding a Upper Type column which have Upper case of type & printing the updated schema\n",
    "data.withColumnRenamed('title','TITLE').withColumn('Upper Type',upper(col('type'))).printSchema()"
   ]
  },
  {
   "cell_type": "code",
   "execution_count": 75,
   "metadata": {},
   "outputs": [
    {
     "name": "stdout",
     "output_type": "stream",
     "text": [
      "root\n",
      " |-- show_id: string (nullable = true)\n",
      " |-- type: string (nullable = true)\n",
      " |-- title: string (nullable = true)\n",
      " |-- director: string (nullable = true)\n",
      " |-- cast: string (nullable = true)\n",
      " |-- country: string (nullable = true)\n",
      " |-- date_added: string (nullable = true)\n",
      " |-- release_year: string (nullable = true)\n",
      " |-- rating: string (nullable = true)\n",
      " |-- duration: string (nullable = true)\n",
      " |-- listed_in: string (nullable = true)\n",
      " |-- description: string (nullable = true)\n",
      "\n"
     ]
    }
   ],
   "source": [
    "# Reverting the add column,rename changes \n",
    "data.withColumnRenamed('title','TITLE').withColumn('Upper Type',upper(col('type')))\\\n",
    ".drop('Upper Type').withColumnRenamed('TITLE','title').printSchema()"
   ]
  },
  {
   "cell_type": "code",
   "execution_count": 76,
   "metadata": {},
   "outputs": [
    {
     "name": "stdout",
     "output_type": "stream",
     "text": [
      "+--------------------+-------+--------+\n",
      "|               title|   Type|Constant|\n",
      "+--------------------+-------+--------+\n",
      "|Norm of the North...|  Movie|    7.89|\n",
      "|Jandino: Whatever...|  Movie|    7.89|\n",
      "|  Transformers Prime|TV Show|    7.89|\n",
      "|Transformers: Rob...|TV Show|    7.89|\n",
      "|        #realityhigh|  Movie|    7.89|\n",
      "|             Apaches|TV Show|    7.89|\n",
      "|            Automata|  Movie|    7.89|\n",
      "|Fabrizio Copano: ...|  Movie|    7.89|\n",
      "|        Fire Chasers|TV Show|    7.89|\n",
      "|         Good People|  Movie|    7.89|\n",
      "|Joaquín Reyes: Un...|  Movie|    7.89|\n",
      "|Kidnapping Mr. He...|  Movie|    7.89|\n",
      "|Krish Trish and B...|  Movie|    7.89|\n",
      "|Krish Trish and B...|  Movie|    7.89|\n",
      "|Krish Trish and B...|  Movie|    7.89|\n",
      "|Krish Trish and B...|  Movie|    7.89|\n",
      "|Krish Trish and B...|  Movie|    7.89|\n",
      "|Krish Trish and B...|  Movie|    7.89|\n",
      "|Krish Trish and B...|  Movie|    7.89|\n",
      "|                Love|  Movie|    7.89|\n",
      "+--------------------+-------+--------+\n",
      "only showing top 20 rows\n",
      "\n"
     ]
    }
   ],
   "source": [
    "# adding a Constant columns to the dataframe\n",
    "data.withColumn('Constant',lit(7.89)).select('title','Type','Constant').show()"
   ]
  },
  {
   "cell_type": "code",
   "execution_count": 77,
   "metadata": {},
   "outputs": [
    {
     "name": "stdout",
     "output_type": "stream",
     "text": [
      "+--------------------+-------+--------+\n",
      "|               title|   Type|Constant|\n",
      "+--------------------+-------+--------+\n",
      "|Norm of the North...|  Movie|       7|\n",
      "|Jandino: Whatever...|  Movie|       7|\n",
      "|  Transformers Prime|TV Show|       7|\n",
      "|Transformers: Rob...|TV Show|       7|\n",
      "|        #realityhigh|  Movie|       7|\n",
      "|             Apaches|TV Show|       7|\n",
      "|            Automata|  Movie|       7|\n",
      "|Fabrizio Copano: ...|  Movie|       7|\n",
      "|        Fire Chasers|TV Show|       7|\n",
      "|         Good People|  Movie|       7|\n",
      "|Joaquín Reyes: Un...|  Movie|       7|\n",
      "|Kidnapping Mr. He...|  Movie|       7|\n",
      "|Krish Trish and B...|  Movie|       7|\n",
      "|Krish Trish and B...|  Movie|       7|\n",
      "|Krish Trish and B...|  Movie|       7|\n",
      "|Krish Trish and B...|  Movie|       7|\n",
      "|Krish Trish and B...|  Movie|       7|\n",
      "|Krish Trish and B...|  Movie|       7|\n",
      "|Krish Trish and B...|  Movie|       7|\n",
      "|                Love|  Movie|       7|\n",
      "+--------------------+-------+--------+\n",
      "only showing top 20 rows\n",
      "\n"
     ]
    }
   ],
   "source": [
    "# casting Constant column to integer\n",
    "data.withColumn('Constant',lit(7.89).cast(IntegerType())).select('title','Type','Constant').show()"
   ]
  },
  {
   "cell_type": "code",
   "execution_count": null,
   "metadata": {},
   "outputs": [],
   "source": []
  }
 ],
 "metadata": {
  "kernelspec": {
   "display_name": "Python 3",
   "language": "python",
   "name": "python3"
  },
  "language_info": {
   "codemirror_mode": {
    "name": "ipython",
    "version": 3
   },
   "file_extension": ".py",
   "mimetype": "text/x-python",
   "name": "python",
   "nbconvert_exporter": "python",
   "pygments_lexer": "ipython3",
   "version": "3.8.5"
  }
 },
 "nbformat": 4,
 "nbformat_minor": 4
}
