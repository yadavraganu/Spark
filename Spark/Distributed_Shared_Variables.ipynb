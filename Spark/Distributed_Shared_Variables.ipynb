{
 "cells": [
  {
   "cell_type": "code",
   "execution_count": 2,
   "metadata": {},
   "outputs": [],
   "source": [
    "import findspark\n",
    "findspark.init()"
   ]
  },
  {
   "cell_type": "code",
   "execution_count": 20,
   "metadata": {},
   "outputs": [],
   "source": [
    "from pyspark.sql import SparkSession\n",
    "spark=SparkSession.builder.appName('Distributed_Shared_Variables').getOrCreate()\n",
    "from pyspark import AccumulatorParam"
   ]
  },
  {
   "cell_type": "code",
   "execution_count": 39,
   "metadata": {},
   "outputs": [
    {
     "data": {
      "text/plain": [
       "[['THis', 'is'],\n",
       " ['the', 'demo'],\n",
       " ['for', 'broadcast'],\n",
       " ['variable', 'in', 'spark']]"
      ]
     },
     "execution_count": 39,
     "metadata": {},
     "output_type": "execute_result"
    }
   ],
   "source": [
    "data='THis is the demo for broadcast variable in spark'.split(' ')\n",
    "rd=spark.sparkContext.parallelize(data,4)\n",
    "rd.glom().collect()"
   ]
  },
  {
   "cell_type": "code",
   "execution_count": 40,
   "metadata": {},
   "outputs": [],
   "source": [
    "# Broadcast variables are a way you can share an immutable value efficiently around the cluster\n",
    "#without encapsulating that variable in a function closure\n",
    "broadcastdata={'THis':1,'broadcast':2,'in':3}\n",
    "broadcast=spark.sparkContext.broadcast(broadcastdata)"
   ]
  },
  {
   "cell_type": "code",
   "execution_count": 41,
   "metadata": {},
   "outputs": [
    {
     "data": {
      "text/plain": [
       "{'THis': 1, 'broadcast': 2, 'in': 3}"
      ]
     },
     "execution_count": 41,
     "metadata": {},
     "output_type": "execute_result"
    }
   ],
   "source": [
    "broadcast.value"
   ]
  },
  {
   "cell_type": "code",
   "execution_count": 42,
   "metadata": {},
   "outputs": [
    {
     "data": {
      "text/plain": [
       "[('is', 0),\n",
       " ('the', 0),\n",
       " ('demo', 0),\n",
       " ('for', 0),\n",
       " ('variable', 0),\n",
       " ('spark', 0),\n",
       " ('THis', 1),\n",
       " ('broadcast', 2),\n",
       " ('in', 3)]"
      ]
     },
     "execution_count": 42,
     "metadata": {},
     "output_type": "execute_result"
    }
   ],
   "source": [
    "rd.map(lambda word: (word, broadcast.value.get(word, 0)))\\\n",
    ".sortBy(lambda wordPair: wordPair[1])\\\n",
    ".collect()"
   ]
  },
  {
   "cell_type": "code",
   "execution_count": 43,
   "metadata": {},
   "outputs": [
    {
     "data": {
      "text/plain": [
       "4"
      ]
     },
     "execution_count": 43,
     "metadata": {},
     "output_type": "execute_result"
    }
   ],
   "source": [
    "#Accumulators provide a mutable variable that a Spark cluster can safely update on a per-row basis.\n",
    "accContainsI = spark.sparkContext.accumulator(0)\n",
    "def ContainsIfunc(row):\n",
    "    if 'i' in row:\n",
    "        accContainsI.add(1)\n",
    "rd.foreach(lambda row:ContainsIfunc(row))\n",
    "accContainsI.value"
   ]
  },
  {
   "cell_type": "code",
   "execution_count": 49,
   "metadata": {},
   "outputs": [
    {
     "data": {
      "text/plain": [
       "4"
      ]
     },
     "execution_count": 49,
     "metadata": {},
     "output_type": "execute_result"
    }
   ],
   "source": [
    "class AddAccumulator(AccumulatorParam):\n",
    "    def zero(self, v):\n",
    "        return 0\n",
    "    def addInPlace(self, acc1, acc2):\n",
    "        acc1=acc2+acc1\n",
    "        return acc1\n",
    "accContainsICustom = spark.sparkContext.accumulator(0,AddAccumulator()) \n",
    "def ContainsICustomfunc(row):\n",
    "    if 'i' in row:\n",
    "        accContainsICustom.add(1)\n",
    "rd.foreach(lambda row:ContainsICustomfunc(row))\n",
    "accContainsICustom.value"
   ]
  },
  {
   "cell_type": "code",
   "execution_count": 50,
   "metadata": {},
   "outputs": [],
   "source": [
    "spark.stop()"
   ]
  },
  {
   "cell_type": "code",
   "execution_count": null,
   "metadata": {},
   "outputs": [],
   "source": []
  }
 ],
 "metadata": {
  "kernelspec": {
   "display_name": "Python 3",
   "language": "python",
   "name": "python3"
  },
  "language_info": {
   "codemirror_mode": {
    "name": "ipython",
    "version": 3
   },
   "file_extension": ".py",
   "mimetype": "text/x-python",
   "name": "python",
   "nbconvert_exporter": "python",
   "pygments_lexer": "ipython3",
   "version": "3.8.5"
  }
 },
 "nbformat": 4,
 "nbformat_minor": 4
}
