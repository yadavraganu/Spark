{
 "cells": [
  {
   "cell_type": "code",
   "execution_count": 1,
   "metadata": {},
   "outputs": [],
   "source": [
    "#Before Doing this plcae ojdbc6.jar in spark Jars folder or on anypath &specify with SPARC_CLASSPATH env variable\n",
    "#Check jdbc.ajr according to your server version\n",
    "#If you are recieving No matching authentication protocol exception error check version of server & client are compatible or change config at server side to allow older client also\n",
    "import findspark\n",
    "findspark.init()"
   ]
  },
  {
   "cell_type": "code",
   "execution_count": 2,
   "metadata": {},
   "outputs": [],
   "source": [
    "from pyspark.sql import SparkSession\n",
    "spark=SparkSession.builder.appName('Spark_Oracle_Connection').getOrCreate()"
   ]
  },
  {
   "cell_type": "code",
   "execution_count": 3,
   "metadata": {},
   "outputs": [],
   "source": [
    "driver='oracle.jdbc.driver.OracleDriver'\n",
    "url='jdbc:oracle:thin:@localhost:1521/XEPDB1'\n",
    "user='TEST'\n",
    "password='TEST'\n",
    "table='EMPLOYEE'"
   ]
  },
  {
   "cell_type": "code",
   "execution_count": 4,
   "metadata": {},
   "outputs": [],
   "source": [
    "# Getting whole table data\n",
    "df=spark.read.format('jdbc')\\\n",
    ".option('driver',driver)\\\n",
    ".option('url',url)\\\n",
    ".option('dbtable',table)\\\n",
    ".option('user',user)\\\n",
    ".option('password',password).load()"
   ]
  },
  {
   "cell_type": "code",
   "execution_count": 5,
   "metadata": {},
   "outputs": [
    {
     "name": "stdout",
     "output_type": "stream",
     "text": [
      "root\n",
      " |-- ID: decimal(5,0) (nullable = true)\n",
      " |-- NAME: string (nullable = true)\n",
      " |-- BIRTHDATE: timestamp (nullable = true)\n",
      " |-- PHONE: string (nullable = true)\n",
      " |-- SALARY: decimal(7,2) (nullable = true)\n",
      " |-- DEPARTMENT_ID: decimal(3,0) (nullable = true)\n",
      " |-- HIRE_DATE: timestamp (nullable = true)\n",
      " |-- JOB_ID: string (nullable = true)\n",
      " |-- EMAIL: string (nullable = true)\n",
      "\n"
     ]
    }
   ],
   "source": [
    "df.printSchema()"
   ]
  },
  {
   "cell_type": "code",
   "execution_count": 6,
   "metadata": {},
   "outputs": [],
   "source": [
    "# Getting data with select query\n",
    "query='(SELECT E.NAME AS EMPLOYEE_NAME,D.NAME AS DEPARTMENT FROM EMPLOYEE E INNER JOIN DEPARTMENT D ON E.DEPARTMENT_ID=D.ID) EMP_DEP'\n",
    "df1=spark.read.format('jdbc')\\\n",
    ".option('driver',driver)\\\n",
    ".option('url',url)\\\n",
    ".option('dbtable',query)\\\n",
    ".option('user',user)\\\n",
    ".option('password',password).load()"
   ]
  },
  {
   "cell_type": "code",
   "execution_count": 16,
   "metadata": {},
   "outputs": [
    {
     "name": "stdout",
     "output_type": "stream",
     "text": [
      "root\n",
      " |-- EMPLOYEE_NAME: string (nullable = true)\n",
      " |-- DEPARTMENT: string (nullable = true)\n",
      "\n"
     ]
    }
   ],
   "source": [
    "df1.printSchema()"
   ]
  },
  {
   "cell_type": "code",
   "execution_count": 7,
   "metadata": {},
   "outputs": [
    {
     "name": "stdout",
     "output_type": "stream",
     "text": [
      "+------------------+--------------------+\n",
      "|     EMPLOYEE_NAME|          DEPARTMENT|\n",
      "+------------------+--------------------+\n",
      "|      EDDIE FARREL|          ACCOUNTING|\n",
      "|        JOHN SMITH|          ACCOUNTING|\n",
      "|      JUSTIN BLACK|          ACCOUNTING|\n",
      "|       ANGIE CROOD|          ACCOUNTING|\n",
      "|        JAMES BOSH|           MARKETING|\n",
      "|      GEORGE HAYES|           MARKETING|\n",
      "|     LUISA JACKSON|INFORMATION TECHN...|\n",
      "|      CHARLES DEAN|INFORMATION TECHN...|\n",
      "|IGOR KEYS OSBOURNE|INFORMATION TECHN...|\n",
      "|        NIGEL OAKS|     HUMAN RESOURCES|\n",
      "|         LUKE MINT|     HUMAN RESOURCES|\n",
      "|     STUART GARCIA|     HUMAN RESOURCES|\n",
      "|     LUKE GREEN JR|     HUMAN RESOURCES|\n",
      "+------------------+--------------------+\n",
      "\n"
     ]
    }
   ],
   "source": [
    "df1.show()"
   ]
  },
  {
   "cell_type": "code",
   "execution_count": 8,
   "metadata": {},
   "outputs": [],
   "source": [
    "#Create a new table\n",
    "df1.write.format('jdbc').option('driver',driver)\\\n",
    ".option('url',url)\\\n",
    ".option('user',user)\\\n",
    ".option('password',password).mode('overwrite').option('createTableOptions','').option('dbtable','EMP_DEP').save()"
   ]
  },
  {
   "cell_type": "code",
   "execution_count": 9,
   "metadata": {},
   "outputs": [],
   "source": [
    "#Append in existing table \n",
    "df1.write.format('jdbc').option('driver',driver)\\\n",
    ".option('url',url)\\\n",
    ".option('user',user)\\\n",
    ".option('password',password).mode('append').option('dbtable','EMP_DEP').save()"
   ]
  },
  {
   "cell_type": "code",
   "execution_count": 10,
   "metadata": {},
   "outputs": [],
   "source": [
    "spark.stop()"
   ]
  },
  {
   "cell_type": "code",
   "execution_count": null,
   "metadata": {},
   "outputs": [],
   "source": []
  }
 ],
 "metadata": {
  "kernelspec": {
   "display_name": "Python 3",
   "language": "python",
   "name": "python3"
  },
  "language_info": {
   "codemirror_mode": {
    "name": "ipython",
    "version": 3
   },
   "file_extension": ".py",
   "mimetype": "text/x-python",
   "name": "python",
   "nbconvert_exporter": "python",
   "pygments_lexer": "ipython3",
   "version": "3.8.5"
  }
 },
 "nbformat": 4,
 "nbformat_minor": 4
}
